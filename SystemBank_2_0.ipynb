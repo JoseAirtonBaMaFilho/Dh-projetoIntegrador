{
  "nbformat": 4,
  "nbformat_minor": 0,
  "metadata": {
    "colab": {
      "provenance": [],
      "authorship_tag": "ABX9TyOQyA2IZKMKT6fHhvrGiw+y",
      "include_colab_link": true
    },
    "kernelspec": {
      "name": "python3",
      "display_name": "Python 3"
    },
    "language_info": {
      "name": "python"
    }
  },
  "cells": [
    {
      "cell_type": "markdown",
      "metadata": {
        "id": "view-in-github",
        "colab_type": "text"
      },
      "source": [
        "<a href=\"https://colab.research.google.com/github/JoseAirtonBaMaFilho/Dh-projetoIntegrador/blob/main/SystemBank_2_0.ipynb\" target=\"_parent\"><img src=\"https://colab.research.google.com/assets/colab-badge.svg\" alt=\"Open In Colab\"/></a>"
      ]
    },
    {
      "cell_type": "code",
      "source": [
        "from abc import ABC, abstractclassmethod, abstractproperty\n",
        "from datetime import datetime\n",
        "import textwrap"
      ],
      "metadata": {
        "id": "88tZgymYNkQs"
      },
      "execution_count": null,
      "outputs": []
    },
    {
      "cell_type": "code",
      "source": [
        "class Cliente:\n",
        "  def __init__(self, endereco):\n",
        "    self.endereco = endereco\n",
        "    self.contas = []\n",
        "\n",
        "  def realizar_transacao(self, conta, transacao):\n",
        "    transacao.registrar(conta)\n",
        "\n",
        "  def adcionar_conta(self, conta):\n",
        "    self.contas.append(conta)"
      ],
      "metadata": {
        "id": "3W43dB8iO-wP"
      },
      "execution_count": null,
      "outputs": []
    },
    {
      "cell_type": "code",
      "source": [
        "class PessoaFisica(Cliente):\n",
        "  def __init__(self, nome, data_nascimento, cpf, endereco):\n",
        "    super().__init__(endereco)\n",
        "    self.nome = nome\n",
        "    self.data_nascimento = data_nascimento\n",
        "    self.cpf = cpf"
      ],
      "metadata": {
        "id": "fV0K3LjRU3FC"
      },
      "execution_count": null,
      "outputs": []
    },
    {
      "cell_type": "code",
      "source": [
        "class Conta:\n",
        "  def __init__(self, numero, cliente):\n",
        "    self._saldo = 0\n",
        "    self._numero = numero\n",
        "    self.agencia = \"0001\"\n",
        "    self._cliente = cliente\n",
        "    self._historico = Historico()\n",
        "\n",
        "    @classmethod\n",
        "    def nova_conta(cls, cliente, numero):\n",
        "      return cls(numero, cliente)\n",
        "\n",
        "    @property\n",
        "    def saldo(self):\n",
        "      return self._saldo\n",
        "\n",
        "    @property\n",
        "    def numero(self):\n",
        "      return self._numero\n",
        "\n",
        "    @property\n",
        "    def agencia(self):\n",
        "      return self._agencia\n",
        "\n",
        "    @property\n",
        "    def cliente(self):\n",
        "      return self._cliente\n",
        "\n",
        "    @property\n",
        "    def historico(self)\n",
        "    return self._historico\n",
        "\n",
        "    def sacar (self, valor):\n",
        "      saldo = self.saldo\n",
        "      excedeu_saldo = valor > saldo\n",
        "\n",
        "      if excedeu_saldo:\n",
        "        print(\"\\n||||||||  Operação falhou! O valor informado é inválido |||||||\")\n",
        "\n",
        "      elif valor > 0:\n",
        "        self._saldo -= valor\n",
        "        print(\"\\n|||||||  Saque realizado com sucesso! |||||||\")\n",
        "        return True\n",
        "\n",
        "      else:\n",
        "        print(\"\\n||||||||  Operação falhou! O valor informado é inválido |||||||\")\n",
        "\n",
        "      return False\n",
        "\n",
        "    def depositar(self, valor):\n",
        "      if valor > 0:\n",
        "        self._saldo += valor\n",
        "        print(\"\\n||||||||  Depósito realizado com sucesso! ||||||||\")\n",
        "\n",
        "      else:\n",
        "        print(\"\\n||||||||  Operação falhou! O valor informado é inválido. ||||||||\")\n",
        "        return False\n",
        "\n",
        "      return True\n"
      ],
      "metadata": {
        "id": "g53XDjX5V3_f"
      },
      "execution_count": null,
      "outputs": []
    },
    {
      "cell_type": "code",
      "source": [
        "class ContaCorrente(Conta):\n",
        "  def __init__(self, numero, cliente, limite=500, limite_saques=3):\n",
        "    super().__init__(numero, cliente)\n",
        "    self.limite = limite\n",
        "    self.limite_saques = limite_saques\n",
        "\n",
        "  def sacar(self, valor):\n",
        "    numero_saques = len(\n",
        "        [transacao for transacao in self.historico.transacao if transacao[\"tipo\"] == saque.__name__]\n",
        "    )\n",
        "\n",
        "    excedeu_limite = valor > self.limite\n",
        "    excedeu_saques = numero_saque >= self.limite_saques\n",
        "\n",
        "    if excedeu_limite:\n",
        "      print(\"\\n||||||||  Operação falhou! Você não tem saldo suficiente. ||||||||\")\n",
        "\n",
        "    elif excedeu_saques:\n",
        "      print(\"\\n|||||||  Operação falhou! Número máximo de saques excedido. ||||||||\")\n",
        "\n",
        "    else:\n",
        "      return super().sacar(valor)\n",
        "\n",
        "    return False\n",
        "\n",
        "  def __str__(self):\n",
        "    return f\"\"\"\\\n",
        "    Agência:\\t{self.agencia}\n",
        "    C/C:\\t\\t{self.numero}\n",
        "    Titular:\\t{self.cliente.nome}\n",
        "    \"\"\"\n"
      ],
      "metadata": {
        "id": "nt8BtRocxlS0",
        "colab": {
          "base_uri": "https://localhost:8080/",
          "height": 211
        },
        "outputId": "713a517f-d631-4dc6-897e-2dd8c7a953f8"
      },
      "execution_count": null,
      "outputs": [
        {
          "output_type": "error",
          "ename": "NameError",
          "evalue": "name 'Conta' is not defined",
          "traceback": [
            "\u001b[0;31m---------------------------------------------------------------------------\u001b[0m",
            "\u001b[0;31mNameError\u001b[0m                                 Traceback (most recent call last)",
            "\u001b[0;32m<ipython-input-1-cadc5cae1c87>\u001b[0m in \u001b[0;36m<cell line: 1>\u001b[0;34m()\u001b[0m\n\u001b[0;32m----> 1\u001b[0;31m \u001b[0;32mclass\u001b[0m \u001b[0mContaCorrente\u001b[0m\u001b[0;34m(\u001b[0m\u001b[0mConta\u001b[0m\u001b[0;34m)\u001b[0m\u001b[0;34m:\u001b[0m\u001b[0;34m\u001b[0m\u001b[0;34m\u001b[0m\u001b[0m\n\u001b[0m\u001b[1;32m      2\u001b[0m   \u001b[0;32mdef\u001b[0m \u001b[0m__init__\u001b[0m\u001b[0;34m(\u001b[0m\u001b[0mself\u001b[0m\u001b[0;34m,\u001b[0m \u001b[0mnumero\u001b[0m\u001b[0;34m,\u001b[0m \u001b[0mcliente\u001b[0m\u001b[0;34m,\u001b[0m \u001b[0mlimite\u001b[0m\u001b[0;34m=\u001b[0m\u001b[0;36m500\u001b[0m\u001b[0;34m,\u001b[0m \u001b[0mlimite_saques\u001b[0m\u001b[0;34m=\u001b[0m\u001b[0;36m3\u001b[0m\u001b[0;34m)\u001b[0m\u001b[0;34m:\u001b[0m\u001b[0;34m\u001b[0m\u001b[0;34m\u001b[0m\u001b[0m\n\u001b[1;32m      3\u001b[0m     \u001b[0msuper\u001b[0m\u001b[0;34m(\u001b[0m\u001b[0;34m)\u001b[0m\u001b[0;34m.\u001b[0m\u001b[0m__init__\u001b[0m\u001b[0;34m(\u001b[0m\u001b[0mnumero\u001b[0m\u001b[0;34m,\u001b[0m \u001b[0mcliente\u001b[0m\u001b[0;34m)\u001b[0m\u001b[0;34m\u001b[0m\u001b[0;34m\u001b[0m\u001b[0m\n\u001b[1;32m      4\u001b[0m     \u001b[0mself\u001b[0m\u001b[0;34m.\u001b[0m\u001b[0mlimite\u001b[0m \u001b[0;34m=\u001b[0m \u001b[0mlimite\u001b[0m\u001b[0;34m\u001b[0m\u001b[0;34m\u001b[0m\u001b[0m\n\u001b[1;32m      5\u001b[0m     \u001b[0mself\u001b[0m\u001b[0;34m.\u001b[0m\u001b[0mlimite_saques\u001b[0m \u001b[0;34m=\u001b[0m \u001b[0mlimite_saques\u001b[0m\u001b[0;34m\u001b[0m\u001b[0;34m\u001b[0m\u001b[0m\n",
            "\u001b[0;31mNameError\u001b[0m: name 'Conta' is not defined"
          ]
        }
      ]
    },
    {
      "cell_type": "code",
      "source": [
        "class Historico:\n",
        "  def __init__(self):\n",
        "    self.transacoes = []\n",
        "\n",
        "  @property\n",
        "  def transacoes(self):\n",
        "    return self._transacoes\n",
        "\n",
        "  def adicionar_transacao(self, transacao):\n",
        "    self._transacoes.append(\n",
        "        {\n",
        "            \"tipo\": transacao.__class__.__nome__,\n",
        "            \"valor\": transacao.valor,\n",
        "            \"data\": datetime.now().strftime(\"%d-%n-%y  %H:%M:%s\"),\n",
        "        }\n",
        "    )\n"
      ],
      "metadata": {
        "id": "3GzKrrAO5W9c"
      },
      "execution_count": null,
      "outputs": []
    },
    {
      "cell_type": "code",
      "source": [
        "class Transacao(ABC):\n",
        "  @property\n",
        "  @abstractproperty\n",
        "  def valor(self):\n",
        "    pass\n",
        "\n",
        "  @abstractclassmethod\n",
        "  def registrar(self, conta):\n",
        "    pass\n"
      ],
      "metadata": {
        "id": "XYbY80hk7mnW"
      },
      "execution_count": null,
      "outputs": []
    },
    {
      "cell_type": "code",
      "source": [
        "class Saque(Transacao):\n",
        "  def __init__(self, valor):\n",
        "    self.valor = valor\n",
        "\n",
        "  @property\n",
        "  def valor(self):\n",
        "    return self._valor\n",
        "\n",
        "  def registrar(self, conta):\n",
        "    sucesso_transacao = conta.sacar(self.valor)\n",
        "\n",
        "    if sucesso_transacao:\n",
        "      conta.historico.adicionar_transacao(self)\n",
        "\n"
      ],
      "metadata": {
        "id": "aXYLYi477nFQ"
      },
      "execution_count": null,
      "outputs": []
    },
    {
      "cell_type": "code",
      "source": [
        "class Deposito(Transacao):\n",
        "  def __init__ (self, valor):\n",
        "    self._valor = valor\n",
        "\n",
        "  @property\n",
        "  def valor(self):\n",
        "    return self._valor\n",
        "\n",
        "  def registrar(self, conta):\n",
        "    sucesso_transacao = conta.depositar(self.valor)\n",
        "\n",
        "    if sucesso_transacao:\n",
        "      conta.historico.adicionar_transacao(self)\n",
        "\n"
      ],
      "metadata": {
        "id": "JZ73xvcl8VyC"
      },
      "execution_count": null,
      "outputs": []
    },
    {
      "cell_type": "code",
      "source": [
        "def menu():\n",
        "  menu = \"\"\"\\n\n",
        "  ________________ MENU ________________\n",
        "  [d]\\tDepositar\n",
        "  [s]\\tSacar\n",
        "  [e]\\tExtrato\n",
        "  [nc]\\tNova Conta\n",
        "  [lc]\\tListar Contas\n",
        "  [nv]\\tNovo Usuário\n",
        "  [q]\\tSair\n",
        "  => \"\"\"\n",
        "  return input(textwrap.dedent(menu))"
      ],
      "metadata": {
        "id": "HitWqZeonFpD"
      },
      "execution_count": null,
      "outputs": []
    },
    {
      "cell_type": "code",
      "source": [
        "def filtrar_cliente(cpf, clientes):\n",
        "  clientes_filtraddos = [cliente for cliente in clientes if clientes.cpf == cpf]\n",
        "  return clientes_filtrados[0] if clientes_filtrados else None\n"
      ],
      "metadata": {
        "id": "0aViPXZIvmTg"
      },
      "execution_count": null,
      "outputs": []
    },
    {
      "cell_type": "code",
      "source": [
        "def recuperar_conta_clinete(cliente):\n",
        "  if not cliente.contas:\n",
        "    print(\"\\n____ Cliente não possui conta! Caso queira fazer uma conta selecione a opção de NC para criar nova conta____\")\n",
        "    return\n",
        "\n",
        "  return cliente_contas[0]\n",
        ""
      ],
      "metadata": {
        "id": "9Hj4bPL_wUdt"
      },
      "execution_count": null,
      "outputs": []
    },
    {
      "cell_type": "code",
      "source": [
        "def depositar(clientes):\n",
        "  cpf = input(\"Informe o CPF do cliente: \")\n",
        "  cliente = filtrar_cliente(cpf, clientes)\n",
        "\n",
        "  if not cliente:\n",
        "    print(\"\\n____Cliente não encontrado! Caso queira fazer uma conta selecione a opção de NC para criar nova conta___\")\n",
        "    return\n",
        "\n",
        "  valor = float(input(\"Informe o valor do depósito: \"))\n",
        "  transação = Deposito(valor)\n",
        "\n",
        "  conta = recuperar_conta_cliente(cliente)\n",
        "  if not conta:\n",
        "    return\n",
        "\n",
        "    cliente.realizar_transacao(conta, transacao)\n"
      ],
      "metadata": {
        "id": "HifKSt6yx0dW"
      },
      "execution_count": null,
      "outputs": []
    },
    {
      "cell_type": "code",
      "source": [
        "def sacar(clientes):\n",
        "  cpf = input(\"Informe o CPF do cliente: \")\n",
        "  cliente = filtrar_cliente(cpf, clientes)\n",
        "\n",
        "  if not clientes:\n",
        "    print (\"\\n Cliente não encontrado! Caso queira fazer uma conta selecione a opção de NC para criar nova conta____\")\n",
        "    return\n",
        "\n",
        "  valor = float(input(\"Informe o valor do saque: \"))\n",
        "  transacao = Saque(valor)\n",
        "\n",
        "  conta = recuperar_conta_cliente(cliente)\n",
        "  if not conta:\n",
        "    return\n",
        "\n",
        "  cliente.realizar_transacao(conta, transacao)\n"
      ],
      "metadata": {
        "id": "P7RrAdT-zlHV"
      },
      "execution_count": null,
      "outputs": []
    },
    {
      "cell_type": "code",
      "source": [
        "def exibir_extrato(clientes):\n",
        "  cpf = input(\"Informe o CPF do cliente: \")\n",
        "  cliente = filtrar_cliente(cpf, clientes)\n",
        "\n",
        "  if not cliente:\n",
        "    print(\"\\n____Cliente não encontrado! Caso queira fazer uma conta selecione a opção de NC para criar nova conta____\")\n",
        "    return\n",
        "\n",
        "  conta = recuperar_conta_cliente(cliente)\n",
        "  if not conta:\n",
        "    return\n",
        "\n",
        "  print(\"\\n||||||||  Extrato  |||||||\")\n",
        "  transacoes = conta.historico.transacoes\n",
        "\n",
        "  extrato = \"\"\n",
        "  if not transacoes:\n",
        "    extrato = \"Não foram realizadas movimentações.\"\n",
        "  else:\n",
        "    for transacao in transacoes:\n",
        "      extrato += f\"\\n{transacao['tipo']}:\\n\\tR$ {transacao['valor']:.2f}\"\n",
        "\n",
        "  print(extrato)\n",
        "  print(f\"\\nSaldo:\\n\\tR$ {conta.saldo:.2f}\")\n",
        "  print(\"__________________________________\")\n",
        ""
      ],
      "metadata": {
        "id": "-0A2ipmO03lh"
      },
      "execution_count": null,
      "outputs": []
    },
    {
      "cell_type": "code",
      "source": [
        "def criar_cliente(clientes):\n",
        "  cpf = input(\"Informe o CPF do cliente: \")\n",
        "  cliente = filtrar_cliente(cpf, clientes)\n",
        "\n",
        "  if cliente:\n",
        "    print(\"\\n____Cliente já cadastrado com esse CPF!____\")\n",
        "    return\n",
        "\n",
        "  nome = input(\"Informe o nome completo: \")\n",
        "  data_nascimento = input(\"informe a data de nascimento (dd-mm-aaaa): \")\n",
        "  endereco = input(\"Iforme o endereço completo: \")\n",
        "\n",
        "  cliente = PessoaFisica(nome=nome, data_nascimento=data_nascimento, cpf=cpf, endereco=endereco)\n",
        "\n",
        "  clientes.append(cliente)\n",
        "\n",
        "  print(\"\\n____Cliente criado com sucesso!____\")\n",
        ""
      ],
      "metadata": {
        "id": "U164Oy213TN9"
      },
      "execution_count": null,
      "outputs": []
    },
    {
      "cell_type": "code",
      "source": [
        "def criar_conta(numero_conta, clientes, contas):\n",
        "  cpf = input(\"Informe o CPF do cliente: \")\n",
        "  cliente = filtrar_cliente(cpf, clientes)\n",
        "\n",
        "  if not cliente:\n",
        "    print(\"\\n____Cliente não encontrado! Caso queira fazer uma conta selecione a opção de NU para criar novo usuario____\")\n",
        "    return\n",
        "\n",
        "  conta = ContaCorrente.nova_conta(cliente=cliente, numero=numero_conta)\n",
        "  contas.append(conta)\n",
        "  cliente.contas.append(conta)\n",
        "\n",
        "  print(\"\\n____Conta criada com sucesso!____\")\n"
      ],
      "metadata": {
        "id": "qtXv8AGs47uf"
      },
      "execution_count": null,
      "outputs": []
    },
    {
      "cell_type": "code",
      "source": [
        "def listar_contas(contas):\n",
        "  for conta in contas:\n",
        "    print(\"=\" * 100)\n",
        "    print(textwarp.dedent(str(conta)))\n",
        ""
      ],
      "metadata": {
        "id": "4kfrf9ZN6M_0"
      },
      "execution_count": null,
      "outputs": []
    },
    {
      "cell_type": "code",
      "source": [
        "def main():\n",
        "  clientes = []\n",
        "  contas = []\n",
        "  while True:\n",
        "    opcao = menu()\n",
        "\n",
        "    if opcao == \"d\":\n",
        "      depositar(clientes)\n",
        "\n",
        "    elif opcao == \"s\":\n",
        "      sacar(clientes)\n",
        "\n",
        "    elif opcao == \"e\":\n",
        "      exibir_extrato(clientes)\n",
        "\n",
        "    elif opcao == \"nu\":\n",
        "      criar_cliente(clientes)\n",
        "\n",
        "    elif opcao == \"nc\":\n",
        "      numero_conta = len(contas) + 1\n",
        "      criar_conta(numero_conta, clientes, contas)\n",
        "\n",
        "    elif opcao == \"lc\":\n",
        "      listar_contas(contas)\n",
        "\n",
        "    elif opcao == \"q\":\n",
        "      break\n",
        "\n",
        "    else:\n",
        "      print(\"\\n_____Operação inválida, por favor selecione novamente a operação desejada.____\")\n",
        "\n"
      ],
      "metadata": {
        "id": "DisNpwA9bFCH"
      },
      "execution_count": null,
      "outputs": []
    }
  ]
}