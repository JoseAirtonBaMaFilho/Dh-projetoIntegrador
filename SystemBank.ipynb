{
  "nbformat": 4,
  "nbformat_minor": 0,
  "metadata": {
    "colab": {
      "provenance": [],
      "authorship_tag": "ABX9TyMT3nYrDGWtAzLFtg8jxLSm",
      "include_colab_link": true
    },
    "kernelspec": {
      "name": "python3",
      "display_name": "Python 3"
    },
    "language_info": {
      "name": "python"
    }
  },
  "cells": [
    {
      "cell_type": "markdown",
      "metadata": {
        "id": "view-in-github",
        "colab_type": "text"
      },
      "source": [
        "<a href=\"https://colab.research.google.com/github/JoseAirtonBaMaFilho/Dh-projetoIntegrador/blob/main/SystemBank.ipynb\" target=\"_parent\"><img src=\"https://colab.research.google.com/assets/colab-badge.svg\" alt=\"Open In Colab\"/></a>"
      ]
    },
    {
      "cell_type": "code",
      "source": [
        "import textwrap\n",
        "\n",
        "\n",
        "def menu():\n",
        "  menu = \"\"\"\\n\n",
        "  ________________ MENU ________________\n",
        "  [d]\\tDepositar\n",
        "  [s]\\tSacar\n",
        "  [e]\\tExtrato\n",
        "  [nc]\\tNova Conta\n",
        "  [lc]\\tListar Contas\n",
        "  [nv]\\tNovo Usuário\n",
        "  [q]\\tSair\n",
        "  => \"\"\"\n",
        "  return input(textwrap.dedent(menu))\n",
        "\n"
      ],
      "metadata": {
        "id": "js7Gy5Ee8SDP"
      },
      "execution_count": 35,
      "outputs": []
    },
    {
      "cell_type": "code",
      "source": [
        "def depositar(saldo, valor, extrato, /):\n",
        "  if valor > 0:\n",
        "    saldo += valor\n",
        "    extrato += f\"Depósito: \\tR$ {valor:.2f}\\n\"\n",
        "    print(\"\\n||||||||  Depósito realizado com sucesso! ||||||||\")\n",
        "  else:\n",
        "    print(\"\\n||||||||  Operação falhou! O valor informado é inválido. ||||||||\")\n",
        "\n",
        "    return saldo, extrato\n"
      ],
      "metadata": {
        "id": "rbTkqwgnxo53"
      },
      "execution_count": 36,
      "outputs": []
    },
    {
      "cell_type": "code",
      "source": [
        "def sacar(*, saldo, valor, extrato, limite, numero_saques, limite_saques):\n",
        "  excedeu_saldo = valor > saldo\n",
        "  excedeu_limite = valor > limite\n",
        "  excedeu_saques = numero_saques >= limite_saques\n",
        "\n",
        "  if excedeu_saldo:\n",
        "    print(\"\\n||||||||  Operação falhou! Você não tem saldo suficiente. ||||||||\")\n",
        "\n",
        "  elif excedeu_limite:\n",
        "    print(\"\\n||||||||  Operação falhou! O valor do saque excedeu o limite. ||||||||\")\n",
        "\n",
        "  elif excedeu_saques:\n",
        "     print(\"\\n|||||||  Operação falhou! Número máximo de saques excedido. ||||||||\")\n",
        "\n",
        "  elif valor > 0:\n",
        "    saldo -= valor\n",
        "    extrato += f\"Saque:\\t\\t R$ {valor:.2f}\\n\"\n",
        "    numero_saques +=1\n",
        "    print(\"\\n|||||||  Saque realizado com sucesso! |||||||\")\n",
        "\n",
        "  else:\n",
        "    print(\"\\n||||||||  Operação falhou! O valor informado é inválido |||||||\")\n",
        "\n",
        "  return saldo, extrato\n"
      ],
      "metadata": {
        "id": "awSVg_EqxjVd"
      },
      "execution_count": 37,
      "outputs": []
    },
    {
      "cell_type": "code",
      "source": [
        "def exibir_extrato(saldo, /, *, extrato):\n",
        "  print(\"\\n||||||||  Extrato  |||||||\")\n",
        "  print(\"Não foram realizadas movmentações.\" if not extrato else extrato)\n",
        "  print(f\"\\nSaldo:\\t\\tR$ {saldo:.2f}\")\n",
        "  print(\"||||||||||||||||||||||||||\")\n",
        ""
      ],
      "metadata": {
        "id": "7dXgL6wvxfyg"
      },
      "execution_count": 38,
      "outputs": []
    },
    {
      "cell_type": "code",
      "source": [
        "def criar_usuario(usuarios):\n",
        "  cpf = input(\"Digite o seu CPF (somente números): \")\n",
        "\n",
        "  if len(cpf) == 11:\n",
        "\n",
        "    verificador1 = (int(cpf[0])*10 + int(cpf[1])*9 + int(cpf[2])*8 + int(cpf[3])*7 + int(cpf[4])*6 +\n",
        "                int(cpf[5])*5 + int(cpf[6])*4 + int(cpf[7])*3 + int(cpf[8])*2)*10 % 11\n",
        "    verificador2 = (int(cpf[0])*11 + int(cpf[1])*10 + int(cpf[2])*9 + int(cpf[3])*8 + int(cpf[4])*7 +\n",
        "                int(cpf[5])*6 + int(cpf[6])*5 + int(cpf[7])*4 + int(cpf[8])*3 + int(cpf[9])*2)*10 % 11\n",
        "\n",
        "    if verificador1 == int(cpf[9]) and verificador2 == int(cpf[10]):\n",
        "        validar = True\n",
        "\n",
        "    else:\n",
        "      validar = False\n",
        "\n",
        "  else:\n",
        "    validar = False\n",
        "  usuario = filtrar_usuario(cpf, usuarios)\n",
        "\n",
        "  if usuario:\n",
        "    print(\"\\n||||||||  Já existe usuário com esse CPF! ||||||||\")\n",
        "    return\n",
        "  elif validar == False:\n",
        "    print(\"\\n||||||||  CPF inválido, por favor entre com CPF válido. ||||||||\")\n",
        "    return\n",
        "\n",
        "  nome = input(\"Nome completo: \")\n",
        "  data_nascimento = input(\"Data de nascimento (dd-mm-aaaa): \")\n",
        "  endereco = input(\"Endereço completo (logadouro, numero - bairo - cidade/UF): \")\n",
        "\n",
        "  usuario.append({\"nome\": nome, \"data_de_nascimento\": data_nascimento, \"cpf\": cpf, \"endereco\": endereco})\n",
        "\n",
        "  print(\"\\n||||||||  Usuário criado com sucesso! |||||||\")\n"
      ],
      "metadata": {
        "id": "L0NKYh9OxUwl"
      },
      "execution_count": 39,
      "outputs": []
    },
    {
      "cell_type": "code",
      "source": [
        "def filtrar_usuario(cpf, usuarios):\n",
        "  usuarios_filtrados = [usuario for usuario in usuarios if usuario[\"cpf\"] == cpf]\n",
        "  return usuarios_filtrados[0] if usuarios_filtrados else None\n"
      ],
      "metadata": {
        "id": "Q7CiRPjXxCgP"
      },
      "execution_count": 41,
      "outputs": []
    },
    {
      "cell_type": "code",
      "source": [
        "def criar_conta(agencia, numero_conta, usuarios):\n",
        "  cpf = input(\"Informe o cpf do usuário: \")\n",
        "  usuario = filtrar_usuario(cpf, usuarios)\n",
        "\n",
        "  if len(cpf) == 11:\n",
        "\n",
        "    verificador1 = (int(cpf[0])*10 + int(cpf[1])*9 + int(cpf[2])*8 + int(cpf[3])*7 + int(cpf[4])*6 +\n",
        "                 int(cpf[5])*5 + int(cpf[6])*4 + int(cpf[7])*3 + int(cpf[8])*2)*10 % 11\n",
        "    verificador2 = (int(cpf[0])*11 + int(cpf[1])*10 + int(cpf[2])*9 + int(cpf[3])*8 + int(cpf[4])*7 +\n",
        "                 int(cpf[5])*6 + int(cpf[6])*5 + int(cpf[7])*4 + int(cpf[8])*3 + int(cpf[9])*2)*10 % 11\n",
        "\n",
        "    if verificador1 == int(cpf[9]) and verificador2 == int(cpf[10]):\n",
        "      validar = True\n",
        "\n",
        "    else:\n",
        "     validar = False\n",
        "\n",
        "  else:\n",
        "    validar = False\n",
        "\n",
        "  if validar == False:\n",
        "    print(\"\\n||||||||  CPF inválido, por favor entre com CPF válido. ||||||||\")\n",
        "    return\n",
        "  if usuario:\n",
        "    print(\"\\n||||||||  Conta criada com sucesso! ||||||||\")\n",
        "    return {\"agencia\": agencia, \"numero_conta\": numero_conta, \"usuario\": usuario}\n",
        "\n",
        "  print(\"\\n||||||||  Usuario não encontrado, fluxo de criação de conta encerrado! ||||||||\")\n",
        ""
      ],
      "metadata": {
        "id": "MWF2lss0wegy"
      },
      "execution_count": 42,
      "outputs": []
    },
    {
      "cell_type": "code",
      "execution_count": 43,
      "metadata": {
        "id": "juAAyCvv6z7p"
      },
      "outputs": [],
      "source": [
        "def listar_contas(contas):\n",
        "  for conta in contas:\n",
        "      linha = f\"\"\"\\\n",
        "          Agência:\\t{conta['agencia']}\n",
        "          c/c:\\t\\t{conta['numero_conta']}\n",
        "          Titular:\\t{conta['usuario']['nome']}\n",
        "      \"\"\"\n",
        "\n",
        "      print(\"=\" + 100)\n",
        "      print(textwrap.dedent(linha))\n",
        ""
      ]
    },
    {
      "cell_type": "code",
      "source": [
        "def main():\n",
        "  LIMITE_SAQUES = 3\n",
        "  AGENCIA = \"0001\"\n",
        "\n",
        "  saldo = 000\n",
        "  limite = 500\n",
        "  extrato = \"\"\n",
        "  numero_saques = 0\n",
        "  usuarios = []\n",
        "  contas = []\n",
        "\n",
        "  while True:\n",
        "\n",
        "    opcao = menu()\n",
        "\n",
        "    if opcao == \"d\":\n",
        "      valor = float(input(\"Informe o valor do depósito: \"))\n",
        "\n",
        "      saldo, extrato = depositar(saldo, valor, extrato)\n",
        "\n",
        "    elif opcao ==\"s\":\n",
        "      valor = float(input(\"informe o valor do saque: \"))\n",
        "\n",
        "      saldo, extrato = sacar(\n",
        "        saldo=saldo,\n",
        "        valor=valor,\n",
        "        extrato=extrato,\n",
        "        limite=limite,\n",
        "        numero_saques=numero_saques,\n",
        "        limite_saques=LIMITE_SAQUES,\n",
        "      )\n",
        "\n",
        "    elif opcao == \"e\":\n",
        "     exibir_extrato(saldo, extrato=extrato)\n",
        "\n",
        "    elif opcao == \"nu\":\n",
        "      criar_usuario(usuarios)\n",
        "\n",
        "    elif opcao == \"nc\":\n",
        "      numero_conta = len(contas) +1\n",
        "      conta = criar_conta(AGENCIA, numero_conta, usuarios)\n",
        "\n",
        "      if conta:\n",
        "        contas.append(conta)\n",
        "\n",
        "    elif opcao == \"lc\":\n",
        "      listar_contas(contas)\n",
        "\n",
        "    elif opcao == \"q\":\n",
        "      break\n",
        "\n",
        "    else:\n",
        "      print(\"Essa opção que você digitou é inválida, por favor selecione novamente a operação desejada.\")\n",
        "\n",
        "\n",
        "main()\n"
      ],
      "metadata": {
        "id": "eFV03j18a2mo",
        "colab": {
          "base_uri": "https://localhost:8080/",
          "height": 540
        },
        "outputId": "1bf9c1b2-ac45-44ef-a186-9dd2f2244fa4"
      },
      "execution_count": 44,
      "outputs": [
        {
          "output_type": "stream",
          "name": "stdout",
          "text": [
            "\n",
            "\n",
            "________________ MENU ________________\n",
            "[d]\tDepositar\n",
            "[s]\tSacar\n",
            "[e]\tExtrato\n",
            "[nc]\tNova Conta\n",
            "[lc]\tListar Contas\n",
            "[nv]\tNovo Usuário\n",
            "[q]\tSair\n",
            "=> d\n",
            "Informe o valor do depósito: 22\n",
            "\n",
            "||||||||  Depósito realizado com sucesso! ||||||||\n"
          ]
        },
        {
          "output_type": "error",
          "ename": "TypeError",
          "evalue": "cannot unpack non-iterable NoneType object",
          "traceback": [
            "\u001b[0;31m---------------------------------------------------------------------------\u001b[0m",
            "\u001b[0;31mTypeError\u001b[0m                                 Traceback (most recent call last)",
            "\u001b[0;32m<ipython-input-44-37868a8671b0>\u001b[0m in \u001b[0;36m<cell line: 56>\u001b[0;34m()\u001b[0m\n\u001b[1;32m     54\u001b[0m \u001b[0;34m\u001b[0m\u001b[0m\n\u001b[1;32m     55\u001b[0m \u001b[0;34m\u001b[0m\u001b[0m\n\u001b[0;32m---> 56\u001b[0;31m \u001b[0mmain\u001b[0m\u001b[0;34m(\u001b[0m\u001b[0;34m)\u001b[0m\u001b[0;34m\u001b[0m\u001b[0;34m\u001b[0m\u001b[0m\n\u001b[0m",
            "\u001b[0;32m<ipython-input-44-37868a8671b0>\u001b[0m in \u001b[0;36mmain\u001b[0;34m()\u001b[0m\n\u001b[1;32m     17\u001b[0m       \u001b[0mvalor\u001b[0m \u001b[0;34m=\u001b[0m \u001b[0mfloat\u001b[0m\u001b[0;34m(\u001b[0m\u001b[0minput\u001b[0m\u001b[0;34m(\u001b[0m\u001b[0;34m\"Informe o valor do depósito: \"\u001b[0m\u001b[0;34m)\u001b[0m\u001b[0;34m)\u001b[0m\u001b[0;34m\u001b[0m\u001b[0;34m\u001b[0m\u001b[0m\n\u001b[1;32m     18\u001b[0m \u001b[0;34m\u001b[0m\u001b[0m\n\u001b[0;32m---> 19\u001b[0;31m       \u001b[0msaldo\u001b[0m\u001b[0;34m,\u001b[0m \u001b[0mextrato\u001b[0m \u001b[0;34m=\u001b[0m \u001b[0mdepositar\u001b[0m\u001b[0;34m(\u001b[0m\u001b[0msaldo\u001b[0m\u001b[0;34m,\u001b[0m \u001b[0mvalor\u001b[0m\u001b[0;34m,\u001b[0m \u001b[0mextrato\u001b[0m\u001b[0;34m)\u001b[0m\u001b[0;34m\u001b[0m\u001b[0;34m\u001b[0m\u001b[0m\n\u001b[0m\u001b[1;32m     20\u001b[0m \u001b[0;34m\u001b[0m\u001b[0m\n\u001b[1;32m     21\u001b[0m     \u001b[0;32melif\u001b[0m \u001b[0mopcao\u001b[0m \u001b[0;34m==\u001b[0m\u001b[0;34m\"s\"\u001b[0m\u001b[0;34m:\u001b[0m\u001b[0;34m\u001b[0m\u001b[0;34m\u001b[0m\u001b[0m\n",
            "\u001b[0;31mTypeError\u001b[0m: cannot unpack non-iterable NoneType object"
          ]
        }
      ]
    },
    {
      "cell_type": "code",
      "source": [],
      "metadata": {
        "id": "DisNpwA9bFCH"
      },
      "execution_count": null,
      "outputs": []
    }
  ]
}